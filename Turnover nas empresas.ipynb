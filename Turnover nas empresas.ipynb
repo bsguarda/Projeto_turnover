{
 "cells": [
  {
   "attachments": {},
   "cell_type": "markdown",
   "metadata": {},
   "source": [
    "### **Data Science**\n",
    "*by Bruno Guarda*   \n",
    "[<img alt=\"Colaboratory logo\" width=\"10%\" src=\"https://img.shields.io/badge/LinkedIn-0077B5?style=for-the-badge&logo=linkedin&logoColor=white\">](https://linkedin.com/in/bruno-guarda)\n",
    "[<img alt=\"Colaboratory logo\" width=\"10%\" src=\"https://img.shields.io/badge/Medium-12100E?style=for-the-badge&logo=medium&logoColor=white\">](https://medium.com/@bsguarda)\n",
    "[<img alt=\"Colaboratory logo\" width=\"10%\" src=\"https://img.shields.io/badge/GitHub-100000?style=for-the-badge&logo=github&logoColor=white\">](\n",
    "https://github.com/bsguarda)\n",
    "\n",
    "___"
   ]
  },
  {
   "attachments": {},
   "cell_type": "markdown",
   "metadata": {},
   "source": [
    "# Turnover nas empresas\n",
    "\n",
    "<center><img alt=\"Colaboratory logo\" width=\"70%\" src=\"https://raw.githubusercontent.com/bsguarda/Projeto_turnover/718aa09f67b6f610d76ecf4c8d5afaa1ec931bf7/turnover.jpg\"></center>"
   ]
  },
  {
   "attachments": {},
   "cell_type": "markdown",
   "metadata": {},
   "source": [
    "Turnover é o termo em inglês para “rotatividade”. Em resumo, trata-se da relação entre o número de contratações e desligamentos, em comparação com o número total de colaboradores. Contudo, o número elevado pode ser interpretado de diferentes maneiras e uma análise aprofundada mostra que o entra-e-sai de profissionais pode ter consequências bem complexas para o negócio. Isso, porque ela envolve gastos com novos processos de recrutamento, seleção e treinamento.\n",
    "\n",
    "Há, também, casos em que os colaboradores levam consigo alguns dos clientes, deixando a companhia em desvantagem. Por essa razão, é preciso saber como reduzir essa taxa e garantir melhores resultados no futuro.\n",
    "\n",
    "Desse modo, custos extras podem ser eliminados, profissionais talentosos podem ser retidos, e a empresa, nos diversos níveis e áreas, beneficiada.\n",
    "\n"
   ]
  },
  {
   "cell_type": "code",
   "execution_count": 1,
   "metadata": {},
   "outputs": [],
   "source": [
    "#importando as bibliotecas\n",
    "import pandas as pd\n",
    "import matplotlib.pyplot as plt\n",
    "import seaborn as sns\n",
    "import numpy as np\n",
    "import warnings\n",
    "warnings.filterwarnings('ignore')"
   ]
  },
  {
   "attachments": {},
   "cell_type": "markdown",
   "metadata": {},
   "source": [
    "O dataset utilizado foi retirado do site [Kaggle]('https://kaggle.com/'), e ajudará a retirar insights importantes e treinar um modelo de Machine Learning para prever a rotatividade de funcionários."
   ]
  },
  {
   "cell_type": "code",
   "execution_count": 2,
   "metadata": {},
   "outputs": [
    {
     "data": {
      "text/html": [
       "<div>\n",
       "<style scoped>\n",
       "    .dataframe tbody tr th:only-of-type {\n",
       "        vertical-align: middle;\n",
       "    }\n",
       "\n",
       "    .dataframe tbody tr th {\n",
       "        vertical-align: top;\n",
       "    }\n",
       "\n",
       "    .dataframe thead th {\n",
       "        text-align: right;\n",
       "    }\n",
       "</style>\n",
       "<table border=\"1\" class=\"dataframe\">\n",
       "  <thead>\n",
       "    <tr style=\"text-align: right;\">\n",
       "      <th></th>\n",
       "      <th>stag</th>\n",
       "      <th>event</th>\n",
       "      <th>gender</th>\n",
       "      <th>age</th>\n",
       "      <th>industry</th>\n",
       "      <th>profession</th>\n",
       "      <th>traffic</th>\n",
       "      <th>coach</th>\n",
       "      <th>head_gender</th>\n",
       "      <th>greywage</th>\n",
       "      <th>way</th>\n",
       "      <th>extraversion</th>\n",
       "      <th>independ</th>\n",
       "      <th>selfcontrol</th>\n",
       "      <th>anxiety</th>\n",
       "      <th>novator</th>\n",
       "    </tr>\n",
       "  </thead>\n",
       "  <tbody>\n",
       "    <tr>\n",
       "      <th>0</th>\n",
       "      <td>7.030801</td>\n",
       "      <td>1</td>\n",
       "      <td>m</td>\n",
       "      <td>35.0</td>\n",
       "      <td>Banks</td>\n",
       "      <td>HR</td>\n",
       "      <td>rabrecNErab</td>\n",
       "      <td>no</td>\n",
       "      <td>f</td>\n",
       "      <td>white</td>\n",
       "      <td>bus</td>\n",
       "      <td>6.2</td>\n",
       "      <td>4.1</td>\n",
       "      <td>5.7</td>\n",
       "      <td>7.1</td>\n",
       "      <td>8.3</td>\n",
       "    </tr>\n",
       "    <tr>\n",
       "      <th>1</th>\n",
       "      <td>22.965092</td>\n",
       "      <td>1</td>\n",
       "      <td>m</td>\n",
       "      <td>33.0</td>\n",
       "      <td>Banks</td>\n",
       "      <td>HR</td>\n",
       "      <td>empjs</td>\n",
       "      <td>no</td>\n",
       "      <td>m</td>\n",
       "      <td>white</td>\n",
       "      <td>bus</td>\n",
       "      <td>6.2</td>\n",
       "      <td>4.1</td>\n",
       "      <td>5.7</td>\n",
       "      <td>7.1</td>\n",
       "      <td>8.3</td>\n",
       "    </tr>\n",
       "    <tr>\n",
       "      <th>2</th>\n",
       "      <td>15.934292</td>\n",
       "      <td>1</td>\n",
       "      <td>f</td>\n",
       "      <td>35.0</td>\n",
       "      <td>PowerGeneration</td>\n",
       "      <td>HR</td>\n",
       "      <td>rabrecNErab</td>\n",
       "      <td>no</td>\n",
       "      <td>m</td>\n",
       "      <td>white</td>\n",
       "      <td>bus</td>\n",
       "      <td>6.2</td>\n",
       "      <td>6.2</td>\n",
       "      <td>2.6</td>\n",
       "      <td>4.8</td>\n",
       "      <td>8.3</td>\n",
       "    </tr>\n",
       "    <tr>\n",
       "      <th>3</th>\n",
       "      <td>15.934292</td>\n",
       "      <td>1</td>\n",
       "      <td>f</td>\n",
       "      <td>35.0</td>\n",
       "      <td>PowerGeneration</td>\n",
       "      <td>HR</td>\n",
       "      <td>rabrecNErab</td>\n",
       "      <td>no</td>\n",
       "      <td>m</td>\n",
       "      <td>white</td>\n",
       "      <td>bus</td>\n",
       "      <td>5.4</td>\n",
       "      <td>7.6</td>\n",
       "      <td>4.9</td>\n",
       "      <td>2.5</td>\n",
       "      <td>6.7</td>\n",
       "    </tr>\n",
       "    <tr>\n",
       "      <th>4</th>\n",
       "      <td>8.410678</td>\n",
       "      <td>1</td>\n",
       "      <td>m</td>\n",
       "      <td>32.0</td>\n",
       "      <td>Retail</td>\n",
       "      <td>Commercial</td>\n",
       "      <td>youjs</td>\n",
       "      <td>yes</td>\n",
       "      <td>f</td>\n",
       "      <td>white</td>\n",
       "      <td>bus</td>\n",
       "      <td>3.0</td>\n",
       "      <td>4.1</td>\n",
       "      <td>8.0</td>\n",
       "      <td>7.1</td>\n",
       "      <td>3.7</td>\n",
       "    </tr>\n",
       "  </tbody>\n",
       "</table>\n",
       "</div>"
      ],
      "text/plain": [
       "        stag  event gender   age         industry  profession      traffic  \\\n",
       "0   7.030801      1      m  35.0            Banks          HR  rabrecNErab   \n",
       "1  22.965092      1      m  33.0            Banks          HR        empjs   \n",
       "2  15.934292      1      f  35.0  PowerGeneration          HR  rabrecNErab   \n",
       "3  15.934292      1      f  35.0  PowerGeneration          HR  rabrecNErab   \n",
       "4   8.410678      1      m  32.0           Retail  Commercial        youjs   \n",
       "\n",
       "  coach head_gender greywage  way  extraversion  independ  selfcontrol  \\\n",
       "0    no           f    white  bus           6.2       4.1          5.7   \n",
       "1    no           m    white  bus           6.2       4.1          5.7   \n",
       "2    no           m    white  bus           6.2       6.2          2.6   \n",
       "3    no           m    white  bus           5.4       7.6          4.9   \n",
       "4   yes           f    white  bus           3.0       4.1          8.0   \n",
       "\n",
       "   anxiety  novator  \n",
       "0      7.1      8.3  \n",
       "1      7.1      8.3  \n",
       "2      4.8      8.3  \n",
       "3      2.5      6.7  \n",
       "4      7.1      3.7  "
      ]
     },
     "execution_count": 2,
     "metadata": {},
     "output_type": "execute_result"
    }
   ],
   "source": [
    "#lendo os dataset e transformando em data frame\n",
    "dataset = pd.read_csv('https://raw.githubusercontent.com/bsguarda/Projeto_turnover/main/turnover.csv', encoding = \"ISO-8859-1\")\n",
    "dataset.head()"
   ]
  },
  {
   "attachments": {},
   "cell_type": "markdown",
   "metadata": {},
   "source": [
    "#### Verificando os dados do Dataset"
   ]
  },
  {
   "cell_type": "code",
   "execution_count": 3,
   "metadata": {},
   "outputs": [
    {
     "name": "stdout",
     "output_type": "stream",
     "text": [
      "O total de registros é: 1129\n",
      "Desses registros, 571 são de turnover\n",
      "O que equivale a 50.5757%\n"
     ]
    }
   ],
   "source": [
    "total_turnover = (dataset.event == 1).sum()\n",
    "total_registros = dataset.shape[0]\n",
    "print(f'O total de registros é: {total_registros}')\n",
    "print(f'Desses registros, {total_turnover} são de turnover')\n",
    "print(f'O que equivale a {((total_turnover * 100) / total_registros):.4f}%')"
   ]
  },
  {
   "cell_type": "code",
   "execution_count": 4,
   "metadata": {},
   "outputs": [
    {
     "name": "stdout",
     "output_type": "stream",
     "text": [
      "O dataset tem: \n",
      "\n",
      " 1129 linhas\n",
      " 16 colunas\n",
      "\n",
      "As variáveis são:\n",
      "\n",
      " ['stag' 'event' 'gender' 'age' 'industry' 'profession' 'traffic' 'coach'\n",
      " 'head_gender' 'greywage' 'way' 'extraversion' 'independ' 'selfcontrol'\n",
      " 'anxiety' 'novator']\n",
      "\n",
      "Os dados ausentes são no total de : 0 registros\n",
      "\n",
      "Os tipos das variáveis do dataset são: \n",
      "\n",
      "stag            float64\n",
      "event             int64\n",
      "gender           object\n",
      "age             float64\n",
      "industry         object\n",
      "profession       object\n",
      "traffic          object\n",
      "coach            object\n",
      "head_gender      object\n",
      "greywage         object\n",
      "way              object\n",
      "extraversion    float64\n",
      "independ        float64\n",
      "selfcontrol     float64\n",
      "anxiety         float64\n",
      "novator         float64\n",
      "dtype: object\n",
      "\n"
     ]
    }
   ],
   "source": [
    "#analisando o dataset\n",
    "print(f'O dataset tem: \\n\\n {dataset.shape[0]} linhas\\n {dataset.shape[1]} colunas\\n') #numero de linhas e colunas\n",
    "print(f'As variáveis são:\\n\\n {dataset.columns.values}\\n') #identificando as variáveis\n",
    "print(f'Os dados ausentes são no total de : {dataset.isnull().sum().values.sum()} registros\\n')\n",
    "print(f'Os tipos das variáveis do dataset são: \\n\\n{dataset.dtypes}\\n') #identificando os tipos dos dados"
   ]
  },
  {
   "cell_type": "code",
   "execution_count": 5,
   "metadata": {},
   "outputs": [],
   "source": [
    "#transformando o tipo da variável age em int\n",
    "dataset['age'] = dataset['age'].astype(float).astype(int)"
   ]
  },
  {
   "cell_type": "code",
   "execution_count": 6,
   "metadata": {},
   "outputs": [
    {
     "name": "stdout",
     "output_type": "stream",
     "text": [
      "Valores únicos por colunas: \n",
      "\n",
      " stag            773\n",
      "event             2\n",
      "gender            2\n",
      "age              38\n",
      "industry         16\n",
      "profession       15\n",
      "traffic           8\n",
      "coach             3\n",
      "head_gender       2\n",
      "greywage          2\n",
      "way               3\n",
      "extraversion     13\n",
      "independ         15\n",
      "selfcontrol      13\n",
      "anxiety          12\n",
      "novator          14\n",
      "dtype: int64\n"
     ]
    }
   ],
   "source": [
    "#verificando valores únicos nas colunas\n",
    "print(f'Valores únicos por colunas: \\n\\n {dataset.nunique()}')"
   ]
  },
  {
   "cell_type": "code",
   "execution_count": 7,
   "metadata": {},
   "outputs": [
    {
     "data": {
      "text/html": [
       "<div>\n",
       "<style scoped>\n",
       "    .dataframe tbody tr th:only-of-type {\n",
       "        vertical-align: middle;\n",
       "    }\n",
       "\n",
       "    .dataframe tbody tr th {\n",
       "        vertical-align: top;\n",
       "    }\n",
       "\n",
       "    .dataframe thead th {\n",
       "        text-align: right;\n",
       "    }\n",
       "</style>\n",
       "<table border=\"1\" class=\"dataframe\">\n",
       "  <thead>\n",
       "    <tr style=\"text-align: right;\">\n",
       "      <th></th>\n",
       "      <th>stag</th>\n",
       "      <th>event</th>\n",
       "      <th>age</th>\n",
       "      <th>extraversion</th>\n",
       "      <th>independ</th>\n",
       "      <th>selfcontrol</th>\n",
       "      <th>anxiety</th>\n",
       "      <th>novator</th>\n",
       "    </tr>\n",
       "  </thead>\n",
       "  <tbody>\n",
       "    <tr>\n",
       "      <th>count</th>\n",
       "      <td>1129.000000</td>\n",
       "      <td>1129.000000</td>\n",
       "      <td>1129.000000</td>\n",
       "      <td>1129.000000</td>\n",
       "      <td>1129.000000</td>\n",
       "      <td>1129.000000</td>\n",
       "      <td>1129.000000</td>\n",
       "      <td>1129.000000</td>\n",
       "    </tr>\n",
       "    <tr>\n",
       "      <th>mean</th>\n",
       "      <td>36.627526</td>\n",
       "      <td>0.505757</td>\n",
       "      <td>31.063773</td>\n",
       "      <td>5.592383</td>\n",
       "      <td>5.478034</td>\n",
       "      <td>5.597254</td>\n",
       "      <td>5.665633</td>\n",
       "      <td>5.879628</td>\n",
       "    </tr>\n",
       "    <tr>\n",
       "      <th>std</th>\n",
       "      <td>34.096597</td>\n",
       "      <td>0.500188</td>\n",
       "      <td>6.996542</td>\n",
       "      <td>1.851637</td>\n",
       "      <td>1.703312</td>\n",
       "      <td>1.980101</td>\n",
       "      <td>1.709176</td>\n",
       "      <td>1.904016</td>\n",
       "    </tr>\n",
       "    <tr>\n",
       "      <th>min</th>\n",
       "      <td>0.394251</td>\n",
       "      <td>0.000000</td>\n",
       "      <td>18.000000</td>\n",
       "      <td>1.000000</td>\n",
       "      <td>1.000000</td>\n",
       "      <td>1.000000</td>\n",
       "      <td>1.700000</td>\n",
       "      <td>1.000000</td>\n",
       "    </tr>\n",
       "    <tr>\n",
       "      <th>25%</th>\n",
       "      <td>11.728953</td>\n",
       "      <td>0.000000</td>\n",
       "      <td>26.000000</td>\n",
       "      <td>4.600000</td>\n",
       "      <td>4.100000</td>\n",
       "      <td>4.100000</td>\n",
       "      <td>4.800000</td>\n",
       "      <td>4.400000</td>\n",
       "    </tr>\n",
       "    <tr>\n",
       "      <th>50%</th>\n",
       "      <td>24.344969</td>\n",
       "      <td>1.000000</td>\n",
       "      <td>30.000000</td>\n",
       "      <td>5.400000</td>\n",
       "      <td>5.500000</td>\n",
       "      <td>5.700000</td>\n",
       "      <td>5.600000</td>\n",
       "      <td>6.000000</td>\n",
       "    </tr>\n",
       "    <tr>\n",
       "      <th>75%</th>\n",
       "      <td>51.318275</td>\n",
       "      <td>1.000000</td>\n",
       "      <td>36.000000</td>\n",
       "      <td>7.000000</td>\n",
       "      <td>6.900000</td>\n",
       "      <td>7.200000</td>\n",
       "      <td>7.100000</td>\n",
       "      <td>7.500000</td>\n",
       "    </tr>\n",
       "    <tr>\n",
       "      <th>max</th>\n",
       "      <td>179.449692</td>\n",
       "      <td>1.000000</td>\n",
       "      <td>58.000000</td>\n",
       "      <td>10.000000</td>\n",
       "      <td>10.000000</td>\n",
       "      <td>10.000000</td>\n",
       "      <td>10.000000</td>\n",
       "      <td>10.000000</td>\n",
       "    </tr>\n",
       "  </tbody>\n",
       "</table>\n",
       "</div>"
      ],
      "text/plain": [
       "              stag        event          age  extraversion     independ  \\\n",
       "count  1129.000000  1129.000000  1129.000000   1129.000000  1129.000000   \n",
       "mean     36.627526     0.505757    31.063773      5.592383     5.478034   \n",
       "std      34.096597     0.500188     6.996542      1.851637     1.703312   \n",
       "min       0.394251     0.000000    18.000000      1.000000     1.000000   \n",
       "25%      11.728953     0.000000    26.000000      4.600000     4.100000   \n",
       "50%      24.344969     1.000000    30.000000      5.400000     5.500000   \n",
       "75%      51.318275     1.000000    36.000000      7.000000     6.900000   \n",
       "max     179.449692     1.000000    58.000000     10.000000    10.000000   \n",
       "\n",
       "       selfcontrol      anxiety      novator  \n",
       "count  1129.000000  1129.000000  1129.000000  \n",
       "mean      5.597254     5.665633     5.879628  \n",
       "std       1.980101     1.709176     1.904016  \n",
       "min       1.000000     1.700000     1.000000  \n",
       "25%       4.100000     4.800000     4.400000  \n",
       "50%       5.700000     5.600000     6.000000  \n",
       "75%       7.200000     7.100000     7.500000  \n",
       "max      10.000000    10.000000    10.000000  "
      ]
     },
     "execution_count": 7,
     "metadata": {},
     "output_type": "execute_result"
    }
   ],
   "source": [
    "#utilizado a ferramenta describe para avaliar alguns parâmetros estatísticos do Dataset\n",
    "dataset.describe()"
   ]
  },
  {
   "attachments": {},
   "cell_type": "markdown",
   "metadata": {},
   "source": [
    "Verificando a correlação das variáveis plotando um heatmap com seus valores"
   ]
  },
  {
   "cell_type": "code",
   "execution_count": 8,
   "metadata": {},
   "outputs": [
    {
     "data": {
      "image/png": "[encoded data removed]",
      "text/plain": [
       "<Figure size 640x480 with 2 Axes>"
      ]
     },
     "metadata": {},
     "output_type": "display_data"
    }
   ],
   "source": [
    "#plotando o heatmap com a correlação das variáveis\n",
    "sns.heatmap(dataset.corr(), annot=True);"
   ]
  },
  {
   "attachments": {},
   "cell_type": "markdown",
   "metadata": {},
   "source": [
    "#### Iremos a avaliar, de acordo com o dataset, no intuito de trazer insights a cerca dos dados apresentados e responder as seguintes perguntas:\n",
    "\n",
    "1 - Qual a porcentagem de pessoas que saem das empresas?\n",
    "\n",
    "2 - Qual o gênero das pessoas que está mais presente no Turnover?\n",
    "\n",
    "3 - Qual a faixa de idade de quem se apresenta no Turnover?\n",
    "\n",
    "4 - Qual a indústria que mais apresenta pessoas que mudam de empresa?\n",
    "\n",
    "5 - Qual o gênero do gestor das pessoas que mais se apresentam no turnover?\n",
    "\n",
    "6 - Qual a profissão onde há mais pessoas que se apresentam no turnover?\n",
    "\n",
    "7 - Qual tipo de transporte usado pelas pessoas que se apresentam no turnover?\n",
    "\n",
    "8 - Qual é a faixa de idade que de quem se apresenta no turnover relacionando-as gênero dos funcionários se relacionam com o gênero do gestor? "
   ]
  },
  {
   "cell_type": "markdown",
   "metadata": {},
   "source": [
    "### 1 - Qual a porcentagem de pessoas que saem das empresas?"
   ]
  },
  {
   "cell_type": "code",
   "execution_count": 9,
   "metadata": {},
   "outputs": [
    {
     "name": "stdout",
     "output_type": "stream",
     "text": [
      "O total de registros é: 1129\n",
      "Desses registros, 571 são de turnover\n",
      "O que equivale a 50.5757%\n"
     ]
    }
   ],
   "source": [
    "#identificando a quantidade de pessoas que se apresentam no turnover\n",
    "total_turnover = (dataset.event == 1).sum()\n",
    "total_registros = dataset.shape[0]\n",
    "print(f'O total de registros é: {total_registros}')\n",
    "print(f'Desses registros, {total_turnover} são de turnover')\n",
    "print(f'O que equivale a {((total_turnover * 100) / total_registros):.4f}%')"
   ]
  },
  {
   "cell_type": "markdown",
   "metadata": {},
   "source": [
    "### 2 - Qual o gênero das pessoas que está mais presente no Turnover?"
   ]
  },
  {
   "attachments": {},
   "cell_type": "markdown",
   "metadata": {},
   "source": [
    "Primeiramente iremos avaliar a disposição dos registros dos gêneros plotando um gráfico de barras para termos uma visualização. "
   ]
  },
  {
   "cell_type": "code",
   "execution_count": 10,
   "metadata": {},
   "outputs": [
    {
     "data": {
      "image/png": "[encoded data removed]",
      "text/plain": [
       "<Figure size 640x480 with 1 Axes>"
      ]
     },
     "metadata": {},
     "output_type": "display_data"
    }
   ],
   "source": [
    "#filtrando e plotando o gráfico com os registros de gênero\n",
    "dfgender = sns.countplot(dataset.gender, palette='Blues')\n",
    "dfgender.set_xticklabels(['Masculino','Feminino'])\n",
    "dfgender.get_yaxis().set_visible(False)\n",
    "plt.title('Gênero do Dataset')\n",
    "for x in ['top', 'bottom', 'right', 'left']:\n",
    "  dfgender.spines[x].set_visible(False)\n",
    "for i in dfgender.patches:\n",
    "  dfgender.annotate(i.get_height(),\n",
    "              (i.get_x() + i.get_width() / 2, i.get_height()),\n",
    "              ha='center', va='bottom', fontsize=12, color='black')  \n",
    "dfgender.set_xlabel('')\n",
    "plt.show()              \n"
   ]
  },
  {
   "cell_type": "code",
   "execution_count": 11,
   "metadata": {},
   "outputs": [
    {
     "name": "stdout",
     "output_type": "stream",
     "text": [
      "Total de registros: 1129\n",
      "Total de pessoas do gênero feminino: 853\n",
      "Total de pessoas do gênero masculino: 276\n",
      "A quantidade de gênero feminino equivale a:     75.55%\n",
      "A quantidade de gênero masculino equivale a:     24.45%\n"
     ]
    }
   ],
   "source": [
    "#avaliando a variável gênero \n",
    "genero_total = dataset.gender.count()\n",
    "genero_feminino = dataset.groupby(['gender']).size()[0]\n",
    "genero_masculino = dataset.groupby(['gender']).size()[1]\n",
    "\n",
    "print('Total de registros: {}'.format(genero_total))\n",
    "print('Total de pessoas do gênero feminino: {}'.format(genero_feminino))\n",
    "print('Total de pessoas do gênero masculino: {}'.format(genero_masculino))\n",
    "print('A quantidade de gênero feminino equivale a:{:10.2f}%'.format((genero_feminino * 100) / genero_total))\n",
    "print('A quantidade de gênero masculino equivale a:{:10.2f}%'.format((genero_masculino * 100) / genero_total))\n"
   ]
  },
  {
   "attachments": {},
   "cell_type": "markdown",
   "metadata": {},
   "source": [
    "Podemos notar que mais de 75% dos registros do dataset é do gênero feminino e esse número deverá refletir na quantidade de pessoas que se apresentam no turnover como veremos mais adiante."
   ]
  },
  {
   "attachments": {},
   "cell_type": "markdown",
   "metadata": {},
   "source": [
    "#### Vamos verificar qual gênero mais se apresenta no turnover"
   ]
  },
  {
   "cell_type": "code",
   "execution_count": 12,
   "metadata": {},
   "outputs": [
    {
     "name": "stdout",
     "output_type": "stream",
     "text": [
      "A quantidade de pessoas presentes no turnover do gênero feminino é : 436\n",
      "A quantidade de pessoas presentes no turnover do gênero masculino é : 135\n",
      "A quantidade de pessoas presentes no turnover do gênero feminino equivale a:     76.36%\n",
      "A quantidade de pessoas presentes no turnover do gênero masculino equivale a:     23.64%\n"
     ]
    }
   ],
   "source": [
    "#verificando qual gênero está mais presente no turnover\n",
    "\n",
    "turnover_total = dataset.groupby(['event','gender']).size()[1].sum()\n",
    "turnover_feminino = dataset.groupby(['event','gender']).size()[1][0]\n",
    "turnover_masculino = dataset.groupby(['event','gender']).size()[1][1]\n",
    "\n",
    "print('A quantidade de pessoas presentes no turnover do gênero feminino é : {}'.format(turnover_feminino))\n",
    "print('A quantidade de pessoas presentes no turnover do gênero masculino é : {}'.format(turnover_masculino))\n",
    "print('A quantidade de pessoas presentes no turnover do gênero feminino equivale a:{:10.2f}%'\n",
    "    .format((turnover_feminino * 100) / turnover_total))\n",
    "print('A quantidade de pessoas presentes no turnover do gênero masculino equivale a:{:10.2f}%'\n",
    "    .format((turnover_masculino * 100) / turnover_total))\n"
   ]
  },
  {
   "attachments": {},
   "cell_type": "markdown",
   "metadata": {},
   "source": [
    "Podemos ver que dos 571 registros que são classificados como turnover, 436 desses são do gênero feminino, esse número corresponde a mais de 76% do valor total de registros classificados com turnover."
   ]
  },
  {
   "attachments": {},
   "cell_type": "markdown",
   "metadata": {},
   "source": [
    "### 3 - Qual a faixa de idade de quem se apresenta no Turnover?"
   ]
  },
  {
   "attachments": {},
   "cell_type": "markdown",
   "metadata": {},
   "source": [
    "Vamos verificar a distribuição das idades das pessoas que se apresentam no turnover:"
   ]
  },
  {
   "cell_type": "code",
   "execution_count": 59,
   "metadata": {},
   "outputs": [
    {
     "data": {
      "image/png": "[encoded data removed]",
      "text/plain": [
       "<Figure size 500x500 with 1 Axes>"
      ]
     },
     "metadata": {},
     "output_type": "display_data"
    }
   ],
   "source": [
    "#filtrando as idades\n",
    "age_turnover = dataset[['event', 'age']][dataset['event']==1]\n",
    "\n",
    "#plotando o gráfico com a faixa etária que se apresentam no turnover\n",
    "plot_age =  sns.displot(age_turnover.age)\n",
    "plt.title('Faixa Etária que se apresenta no turnover');"
   ]
  },
  {
   "attachments": {},
   "cell_type": "markdown",
   "metadata": {},
   "source": [
    "Podemos perceber que a distribuição de idade onde tem mais registros que se apresenta no turnover está acima dos 20 anos até 35 anos, como a maior concentração na faixa dos 25 anos."
   ]
  },
  {
   "attachments": {},
   "cell_type": "markdown",
   "metadata": {},
   "source": [
    "### 4 - Qual a indústria (setor) que mais apresenta pessoas que mudam de empresa?\n"
   ]
  },
  {
   "cell_type": "code",
   "execution_count": null,
   "metadata": {},
   "outputs": [
    {
     "data": {
      "image/png": "[encoded data removed]",
      "text/plain": [
       "<Figure size 640x480 with 1 Axes>"
      ]
     },
     "metadata": {},
     "output_type": "display_data"
    }
   ],
   "source": [
    "#filtrando o setor que mais se apresentam no turnover\n",
    "industry_turnover = dataset[['event','industry']][dataset['event']==1]\n",
    "\n",
    "#plotando o gráfico da variável industry\n",
    "plot_industry = sns.countplot(industry_turnover.industry)\n",
    "plt.xticks(rotation=90)\n",
    "plt.title('Setor que mais se apresentam no Turnover')\n",
    "plot_industry.get_yaxis().set_visible(False)\n",
    "for x in ['top', 'bottom', 'right', 'left']:\n",
    "  plot_industry.spines[x].set_visible(False)\n",
    "plot_industry.set_xlabel('');"
   ]
  },
  {
   "attachments": {},
   "cell_type": "markdown",
   "metadata": {},
   "source": [
    "O gráfico nos mostra que o turnover acontece mais no setor `Retail`, ou seja, no setor de Varejo, seguido do setor bancário e depois o setor de manufatura."
   ]
  },
  {
   "attachments": {},
   "cell_type": "markdown",
   "metadata": {},
   "source": [
    "### 5 - Qual o gênero do gestor das pessoas que mais se apresentam no turnover?"
   ]
  },
  {
   "cell_type": "code",
   "execution_count": null,
   "metadata": {},
   "outputs": [
    {
     "data": {
      "image/png": "[encoded data removed]",
      "text/plain": [
       "<Figure size 640x480 with 2 Axes>"
      ]
     },
     "metadata": {},
     "output_type": "display_data"
    }
   ],
   "source": [
    "#filtrando a variável head_gender que se apresentam no turnover\n",
    "head_turnover = dataset[['event', 'head_gender']][dataset['event'] == 1]\n",
    "\n",
    "#plotando o gráfico dos gestores que se apresentam no turnover e que não se apresentam\n",
    "df1 = dataset[['event','head_gender']][dataset['event'] == 0]\n",
    "df2 = dataset[['event','head_gender']][dataset['event'] == 1] \n",
    "\n",
    "fig, ax = plt.subplots(1,2)\n",
    "plt.text(-1.5, 350, 'Turnover x Gênero', size=(14))\n",
    "plot1 = sns.countplot(df1.head_gender, ax=ax[0], palette='Blues')\n",
    "plot2 = sns.countplot(df2.head_gender, ax=ax[1], palette='Blues')\n",
    "plt.title('Turnover x Gênero')\n",
    "ax[0].set_title('Não Turnover')\n",
    "ax[1].set_title('Turnover')\n",
    "ax[0].set_xlabel('')\n",
    "ax[1].set_xlabel('')\n",
    "ax[0].set_xticklabels(['Feminino','Masculino'])\n",
    "ax[1].set_xticklabels(['Feminino','Masculino'])\n",
    "for x in ['top', 'bottom', 'right', 'left']:\n",
    "  ax[0].spines[x].set_visible(False)\n",
    "  ax[1].spines[x].set_visible(False)\n",
    "ax[0].get_yaxis().set_visible(False)\n",
    "ax[1].get_yaxis().set_visible(False)\n",
    "for i in plot1.patches:\n",
    "  plot1.annotate(i.get_height(),\n",
    "              (i.get_x() + i.get_width() / 2, i.get_height()),\n",
    "              ha='center', va='bottom', fontsize=12, color='black')\n",
    "for i in plot2.patches:\n",
    "  plot2.annotate(i.get_height(),\n",
    "              (i.get_x() + i.get_width() / 2, i.get_height()),\n",
    "              ha='center', va='bottom', fontsize=12, color='black')              \n",
    "fig.show()"
   ]
  },
  {
   "attachments": {},
   "cell_type": "markdown",
   "metadata": {},
   "source": [
    "O gráfico mostra que o gênero dos gestores onde não se apresenta o turnover o gênero que mais se apresenta é o feminino porém com uma diferença muito pequena e já quando se apresenta o turnover vemos que gênero em maior número é o masculino."
   ]
  },
  {
   "attachments": {},
   "cell_type": "markdown",
   "metadata": {},
   "source": [
    "### 6 - Qual a profissão onde há mais pessoas que se apresentam no turnover?\n"
   ]
  },
  {
   "cell_type": "code",
   "execution_count": null,
   "metadata": {},
   "outputs": [
    {
     "data": {
      "image/png": "[encoded data removed]",
      "text/plain": [
       "<Figure size 640x480 with 1 Axes>"
      ]
     },
     "metadata": {},
     "output_type": "display_data"
    }
   ],
   "source": [
    "#filtrando a variável profession que se apresentam no turnover\n",
    "profession_turnover = dataset[['event','profession']][dataset['event'] == 1]\n",
    "\n",
    "#plotando gráfico dos profissionais que mais se apresentam no turnover\n",
    "plot_profession = sns.countplot(x='profession', data=profession_turnover)\n",
    "plt.title('Profissionais que mais se apresentam no turnover')\n",
    "plt.xticks(rotation=90)\n",
    "plot_profession.get_yaxis().set_visible(False)\n",
    "for x in ['top', 'bottom', 'right', 'left']:\n",
    "  plot_profession.spines[x].set_visible(False)\n",
    "plot_profession.set_xlabel('');"
   ]
  },
  {
   "attachments": {},
   "cell_type": "markdown",
   "metadata": {},
   "source": [
    "Podemos verificar que os profissionais de RH são, disparadamente, os que mais se apresentam no turnover. "
   ]
  },
  {
   "attachments": {},
   "cell_type": "markdown",
   "metadata": {},
   "source": [
    "### 7 - Qual tipo de transporte usado pelas pessoas que se apresentam no turnover?"
   ]
  },
  {
   "cell_type": "code",
   "execution_count": null,
   "metadata": {},
   "outputs": [
    {
     "data": {
      "image/png": "[encoded data removed]",
      "text/plain": [
       "<Figure size 640x480 with 1 Axes>"
      ]
     },
     "metadata": {},
     "output_type": "display_data"
    }
   ],
   "source": [
    "#filtrando qual tipo de transporte usam as pessoas que se apresentam no turnover \n",
    "way_turnover = dataset[['event','way']][dataset['event']==1]\n",
    "\n",
    "#plotando o gráfico dos meios de transportes mais usados por quem se apresenta no turnover\n",
    "plot_way = sns.countplot(way_turnover.way)\n",
    "plt.title('Meio de transporte usado por pessoas que se apresentam no turnover')\n",
    "plot_way.set_xlabel(\"\")\n",
    "for x in ['top', 'bottom', 'right', 'left']:\n",
    "  plot_way.spines[x].set_visible(False)\n",
    "plot_way.get_yaxis().set_visible(False)  "
   ]
  },
  {
   "attachments": {},
   "cell_type": "markdown",
   "metadata": {},
   "source": [
    "Mais da metade das pessoas que se apresentam no turnover usam o ônibus como meio de transporte, "
   ]
  },
  {
   "attachments": {},
   "cell_type": "markdown",
   "metadata": {},
   "source": [
    "### 8 - Qual é a faixa de idade que de quem se apresenta no turnover relacionando-as gênero dos funcionários se relacionam com o gênero do gestor? "
   ]
  },
  {
   "attachments": {},
   "cell_type": "markdown",
   "metadata": {},
   "source": [
    "##### Vamos verificar no gráfico a faixa de idade dos registros relacionando-os com as variáveis gênero do funcionário e o gênero do gestor que se apresenta  no turnover;"
   ]
  },
  {
   "attachments": {},
   "cell_type": "markdown",
   "metadata": {},
   "source": [
    "Como vimos que o gênero de funcionário que mais se apresenta é o feminino vamos começar por ele."
   ]
  },
  {
   "cell_type": "code",
   "execution_count": null,
   "metadata": {},
   "outputs": [
    {
     "data": {
      "image/png": "[encoded data removed]",
      "text/plain": [
       "<Figure size 1000x500 with 2 Axes>"
      ]
     },
     "metadata": {},
     "output_type": "display_data"
    }
   ],
   "source": [
    "#Verificando as idade filtrando com gênero do funcionário feminino e gênero do gestor masculino\n",
    "corr1 = dataset[['event','age','gender', 'head_gender']][(dataset['gender'] == 'f') & (dataset['head_gender'] == 'm') & (dataset['event'] == 1)]\n",
    "\n",
    "#Verificando as idade filtrando com gênero do funcionário feminino e gênero do gestor feminino\n",
    "corr2 = dataset[['event','age','gender', 'head_gender']][(dataset['gender'] == 'f') & (dataset['head_gender'] == 'f') & (dataset['event'] == 1)]\n",
    "\n",
    "#mudando o nome das colunas age \n",
    "corr1.rename(columns={'age': 'age_m'}, inplace=True)\n",
    "corr2.rename(columns={'age': 'age_f'}, inplace=True)\n",
    "\n",
    "#concatenando os 2 filtros\n",
    "corr_concat1 = pd.concat([corr1, corr2], axis=1)\n",
    "\n",
    "#plotando o gráfico\n",
    "\n",
    "fig, ax = plt.subplots(1,2, figsize=(10,5), sharex=True)\n",
    "sns.distplot(corr_concat.age_m, ax=ax[0], kde=False, color='r', hist_kws={'color': 'blue', 'edgecolor': 'black', 'linewidth': 2 })\n",
    "sns.distplot(corr_concat.age_f, ax=ax[1], kde=False, hist_kws={'color': 'red', 'edgecolor': 'black', 'linewidth': 2 })\n",
    "for x in ['top', 'bottom', 'right', 'left']:\n",
    "  ax[0].spines[x].set_visible(False)\n",
    "  ax[1].spines[x].set_visible(False)\n",
    "ax[0].get_yaxis().set_visible(False)\n",
    "ax[1].get_yaxis().set_visible(False)\n",
    "ax[0].set_xlabel('')\n",
    "ax[1].set_xlabel('')\n",
    "plt.text(-23, 65, 'Idade x Funcionário do Sexo Feminino x Gênero do Gestor', size=(14))\n",
    "plt.text(-22, -6.5, 'Gestor Masculino', size=(10))\n",
    "plt.text(30, -6.5, 'Gestor Feminino', size=(10))\n",
    "plt.show()"
   ]
  },
  {
   "cell_type": "code",
   "execution_count": null,
   "metadata": {},
   "outputs": [
    {
     "data": {
      "image/png": "[encoded data removed]",
      "text/plain": [
       "<Figure size 500x500 with 1 Axes>"
      ]
     },
     "metadata": {},
     "output_type": "display_data"
    },
    {
     "data": {
      "image/png": "[encoded data removed]",
      "text/plain": [
       "<Figure size 500x500 with 1 Axes>"
      ]
     },
     "metadata": {},
     "output_type": "display_data"
    }
   ],
   "source": [
    "#Verificando as idade filtrando com gênero do funcionário feminino e gênero do gestor masculino\n",
    "corr1 = dataset[['event','age','gender', 'head_gender']][(dataset['gender'] == 'f') & (dataset['head_gender'] == 'm') & (dataset['event'] == 1)]\n",
    "\n",
    "#Verificando as idade filtrando com gênero do funcionário feminino e gênero do gestor feminino\n",
    "corr2 = dataset[['event','age','gender', 'head_gender']][(dataset['gender'] == 'f') & (dataset['head_gender'] == 'f') & (dataset['event'] == 1)]\n",
    "\n",
    "#mudando o nome das colunas age \n",
    "corr1.rename(columns={'age': 'age_m'}, inplace=True)\n",
    "corr2.rename(columns={'age': 'age_f'}, inplace=True)\n",
    "\n",
    "#plotando o gráfico\n",
    "#fig, ax = plt.subplots(1,2, figsize=(17,5))\n",
    "#plt.text(-15, 30, 'Idade x Funcionário do Sexo Feminino x Gênero do Gestor', size=(14))\n",
    "#plt.text(-22, -3, 'Gestor Masculino', size=(10))\n",
    "#plt.text(10, -3, 'Gestor Feminino', size=(10))\n",
    "corr1_plot = sns.displot(corr1.age_m, ax=ax[0])\n",
    "corr2_plot = sns.displot(corr2.age_f, ax=ax[1])\n",
    "for x in ['top', 'bottom', 'right', 'left']:\n",
    "  ax[0].spines[x].set_visible(False)\n",
    "  ax[1].spines[x].set_visible(False)\n",
    "ax[0].get_yaxis().set_visible(False)\n",
    "ax[1].get_yaxis().set_visible(False)\n",
    "ax[0].set_xlabel('')\n",
    "ax[1].set_xlabel('')\n",
    "plt.show()\n",
    "\n"
   ]
  },
  {
   "attachments": {},
   "cell_type": "markdown",
   "metadata": {},
   "source": [
    "Verificamos que na relação de funcionário feminino e o gestor gênero masculino a faixa de idade que mais se apresenta está entre 24 anos até 40 anos, com a maior concentração entre 30 e 32 anos. Enquanto que na relação de funcionário feminino e gestor do gênero feminino faixa de idade que mais se apresenta está entre é 22 e 24 anos, com a maior concentração em 26 anos. "
   ]
  },
  {
   "attachments": {},
   "cell_type": "markdown",
   "metadata": {},
   "source": [
    "Agora iremos verificar o gênero de funcionário masculino com relação aos gêneros dos gestores"
   ]
  },
  {
   "cell_type": "code",
   "execution_count": null,
   "metadata": {},
   "outputs": [
    {
     "data": {
      "image/png": "[encoded data removed]",
      "text/plain": [
       "<Figure size 1000x500 with 2 Axes>"
      ]
     },
     "metadata": {},
     "output_type": "display_data"
    }
   ],
   "source": [
    "#Verificando as idade filtrando com gênero do funcionário masculino e gênero do gestor masculino\n",
    "corr3 = dataset[['event','age','gender', 'head_gender']][(dataset['gender'] == 'm') & (dataset['head_gender'] == 'm') & (dataset['event'] == 1)]\n",
    "\n",
    "#Verificando as idade filtrando com gênero do funcionário masculino e gênero do gestor feminino\n",
    "corr4 = dataset[['event','age','gender', 'head_gender']][(dataset['gender'] == 'm') & (dataset['head_gender'] == 'f') & (dataset['event'] == 1)]\n",
    "\n",
    "#mudando o nome das colunas age \n",
    "corr3.rename(columns={'age': 'age_m'}, inplace=True)\n",
    "corr4.rename(columns={'age': 'age_f'}, inplace=True)\n",
    "\n",
    "#concatenando os 2 filtros\n",
    "corr_concat2 = pd.concat([corr3, corr4], axis=1)\n",
    "\n",
    "#plotando o gráfico\n",
    "\n",
    "fig, ax = plt.subplots(1,2, figsize=(10,5), sharex=True)\n",
    "sns.distplot(corr_concat2.age_m, ax=ax[0], kde=False, color='r', hist_kws={'color': 'blue', 'edgecolor': 'black', 'linewidth': 2 })\n",
    "sns.distplot(corr_concat2.age_f, ax=ax[1], kde=False, hist_kws={'color': 'red', 'edgecolor': 'black', 'linewidth': 2 })\n",
    "for x in ['top', 'bottom', 'right', 'left']:\n",
    "  ax[0].spines[x].set_visible(False)\n",
    "  ax[1].spines[x].set_visible(False)\n",
    "ax[0].get_yaxis().set_visible(False)\n",
    "ax[1].get_yaxis().set_visible(False)\n",
    "ax[0].set_xlabel('')\n",
    "ax[1].set_xlabel('')\n",
    "plt.text(-18, 12, 'Idade x Funcionário do Sexo Masculino x Gênero do Gestor', size=(14))\n",
    "plt.text(-18, -1.5, 'Gestor Masculino', size=(10))\n",
    "plt.text(28, -1.5, 'Gestor Feminino', size=(10))\n",
    "plt.show()"
   ]
  },
  {
   "attachments": {},
   "cell_type": "markdown",
   "metadata": {},
   "source": [
    "Verificamos que na relação de funcionário masculino e o gestor masculino a faixa de idade que mais se apresenta é entre 25 e 40 anos, com a maior concentração em 35 anos. Enquanto que na relação de funcionário masculino e gestor feminino a faixa de idade que mais se apresenta é entre 20 a 30 anos, com a maior concentração em 20 anos. \n",
    "\n",
    "Vale ressaltar que a quantidade de registros para o gestor feminino é bem menor do que o gestor masculino."
   ]
  },
  {
   "attachments": {},
   "cell_type": "markdown",
   "metadata": {},
   "source": [
    "## Modelo de Machine Learning prever o Turnover"
   ]
  },
  {
   "attachments": {},
   "cell_type": "markdown",
   "metadata": {},
   "source": [
    "##### Será utilizado o algorítimo de Regressão Logística, que é uma técnica de análise de dados que usa matemática para encontrar as relações entre dois fatores de dados. Em seguida, essa relação é usada para prever o valor de um desses fatores com base no outro. A previsão geralmente tem um número finito de resultados, como sim ou não."
   ]
  },
  {
   "cell_type": "code",
   "execution_count": 36,
   "metadata": {},
   "outputs": [
    {
     "name": "stdout",
     "output_type": "stream",
     "text": [
      "Requirement already satisfied: scikit-plot in c:\\users\\guarda\\anaconda3\\lib\\site-packages (0.3.7)\n",
      "Requirement already satisfied: matplotlib>=1.4.0 in c:\\users\\guarda\\anaconda3\\lib\\site-packages (from scikit-plot) (3.5.2)\n",
      "Requirement already satisfied: joblib>=0.10 in c:\\users\\guarda\\anaconda3\\lib\\site-packages (from scikit-plot) (1.1.0)\n",
      "Requirement already satisfied: scipy>=0.9 in c:\\users\\guarda\\anaconda3\\lib\\site-packages (from scikit-plot) (1.9.1)\n",
      "Requirement already satisfied: scikit-learn>=0.18 in c:\\users\\guarda\\anaconda3\\lib\\site-packages (from scikit-plot) (1.0.2)\n",
      "Requirement already satisfied: pyparsing>=2.2.1 in c:\\users\\guarda\\anaconda3\\lib\\site-packages (from matplotlib>=1.4.0->scikit-plot) (3.0.9)\n",
      "Requirement already satisfied: pillow>=6.2.0 in c:\\users\\guarda\\anaconda3\\lib\\site-packages (from matplotlib>=1.4.0->scikit-plot) (9.2.0)\n",
      "Requirement already satisfied: fonttools>=4.22.0 in c:\\users\\guarda\\anaconda3\\lib\\site-packages (from matplotlib>=1.4.0->scikit-plot) (4.25.0)\n",
      "Requirement already satisfied: python-dateutil>=2.7 in c:\\users\\guarda\\anaconda3\\lib\\site-packages (from matplotlib>=1.4.0->scikit-plot) (2.8.2)\n",
      "Requirement already satisfied: cycler>=0.10 in c:\\users\\guarda\\anaconda3\\lib\\site-packages (from matplotlib>=1.4.0->scikit-plot) (0.11.0)\n",
      "Requirement already satisfied: numpy>=1.17 in c:\\users\\guarda\\anaconda3\\lib\\site-packages (from matplotlib>=1.4.0->scikit-plot) (1.21.5)\n",
      "Requirement already satisfied: kiwisolver>=1.0.1 in c:\\users\\guarda\\anaconda3\\lib\\site-packages (from matplotlib>=1.4.0->scikit-plot) (1.4.2)\n",
      "Requirement already satisfied: packaging>=20.0 in c:\\users\\guarda\\anaconda3\\lib\\site-packages (from matplotlib>=1.4.0->scikit-plot) (21.3)\n",
      "Requirement already satisfied: threadpoolctl>=2.0.0 in c:\\users\\guarda\\anaconda3\\lib\\site-packages (from scikit-learn>=0.18->scikit-plot) (2.2.0)\n",
      "Requirement already satisfied: six>=1.5 in c:\\users\\guarda\\anaconda3\\lib\\site-packages (from python-dateutil>=2.7->matplotlib>=1.4.0->scikit-plot) (1.16.0)\n"
     ]
    }
   ],
   "source": [
    "#importando as bibliotecas necessárias\n",
    "!pip install scikit-plot\n",
    "from sklearn.linear_model import LogisticRegression\n",
    "from sklearn.ensemble import RandomForestRegressor\n",
    "import scikitplot as skplt\n",
    "from sklearn.model_selection import train_test_split\n",
    "from sklearn.metrics import roc_auc_score, roc_curve, accuracy_score, classification_report, log_loss\n"
   ]
  },
  {
   "cell_type": "code",
   "execution_count": 37,
   "metadata": {},
   "outputs": [],
   "source": [
    "#criando um copia do dataset original para futura modificação\n",
    "df_turnover = dataset"
   ]
  },
  {
   "attachments": {},
   "cell_type": "markdown",
   "metadata": {},
   "source": [
    "Vamos verificar as variáveis do dataset"
   ]
  },
  {
   "cell_type": "code",
   "execution_count": 38,
   "metadata": {},
   "outputs": [
    {
     "data": {
      "text/plain": [
       "array(['stag', 'event', 'gender', 'age', 'industry', 'profession',\n",
       "       'traffic', 'coach', 'head_gender', 'greywage', 'way',\n",
       "       'extraversion', 'independ', 'selfcontrol', 'anxiety', 'novator'],\n",
       "      dtype=object)"
      ]
     },
     "execution_count": 38,
     "metadata": {},
     "output_type": "execute_result"
    }
   ],
   "source": [
    "#verificando as variáveis do dataset\n",
    "df_turnover.columns.values"
   ]
  },
  {
   "cell_type": "code",
   "execution_count": 39,
   "metadata": {},
   "outputs": [
    {
     "data": {
      "text/html": [
       "<div>\n",
       "<style scoped>\n",
       "    .dataframe tbody tr th:only-of-type {\n",
       "        vertical-align: middle;\n",
       "    }\n",
       "\n",
       "    .dataframe tbody tr th {\n",
       "        vertical-align: top;\n",
       "    }\n",
       "\n",
       "    .dataframe thead th {\n",
       "        text-align: right;\n",
       "    }\n",
       "</style>\n",
       "<table border=\"1\" class=\"dataframe\">\n",
       "  <thead>\n",
       "    <tr style=\"text-align: right;\">\n",
       "      <th></th>\n",
       "      <th>stag</th>\n",
       "      <th>event</th>\n",
       "      <th>gender</th>\n",
       "      <th>age</th>\n",
       "      <th>industry</th>\n",
       "      <th>profession</th>\n",
       "      <th>traffic</th>\n",
       "      <th>coach</th>\n",
       "      <th>head_gender</th>\n",
       "      <th>greywage</th>\n",
       "      <th>way</th>\n",
       "      <th>extraversion</th>\n",
       "      <th>independ</th>\n",
       "      <th>selfcontrol</th>\n",
       "      <th>anxiety</th>\n",
       "      <th>novator</th>\n",
       "    </tr>\n",
       "  </thead>\n",
       "  <tbody>\n",
       "    <tr>\n",
       "      <th>0</th>\n",
       "      <td>7.030801</td>\n",
       "      <td>1</td>\n",
       "      <td>m</td>\n",
       "      <td>35</td>\n",
       "      <td>Banks</td>\n",
       "      <td>HR</td>\n",
       "      <td>rabrecNErab</td>\n",
       "      <td>no</td>\n",
       "      <td>f</td>\n",
       "      <td>white</td>\n",
       "      <td>bus</td>\n",
       "      <td>6.2</td>\n",
       "      <td>4.1</td>\n",
       "      <td>5.7</td>\n",
       "      <td>7.1</td>\n",
       "      <td>8.3</td>\n",
       "    </tr>\n",
       "    <tr>\n",
       "      <th>1</th>\n",
       "      <td>22.965092</td>\n",
       "      <td>1</td>\n",
       "      <td>m</td>\n",
       "      <td>33</td>\n",
       "      <td>Banks</td>\n",
       "      <td>HR</td>\n",
       "      <td>empjs</td>\n",
       "      <td>no</td>\n",
       "      <td>m</td>\n",
       "      <td>white</td>\n",
       "      <td>bus</td>\n",
       "      <td>6.2</td>\n",
       "      <td>4.1</td>\n",
       "      <td>5.7</td>\n",
       "      <td>7.1</td>\n",
       "      <td>8.3</td>\n",
       "    </tr>\n",
       "    <tr>\n",
       "      <th>2</th>\n",
       "      <td>15.934292</td>\n",
       "      <td>1</td>\n",
       "      <td>f</td>\n",
       "      <td>35</td>\n",
       "      <td>PowerGeneration</td>\n",
       "      <td>HR</td>\n",
       "      <td>rabrecNErab</td>\n",
       "      <td>no</td>\n",
       "      <td>m</td>\n",
       "      <td>white</td>\n",
       "      <td>bus</td>\n",
       "      <td>6.2</td>\n",
       "      <td>6.2</td>\n",
       "      <td>2.6</td>\n",
       "      <td>4.8</td>\n",
       "      <td>8.3</td>\n",
       "    </tr>\n",
       "    <tr>\n",
       "      <th>3</th>\n",
       "      <td>15.934292</td>\n",
       "      <td>1</td>\n",
       "      <td>f</td>\n",
       "      <td>35</td>\n",
       "      <td>PowerGeneration</td>\n",
       "      <td>HR</td>\n",
       "      <td>rabrecNErab</td>\n",
       "      <td>no</td>\n",
       "      <td>m</td>\n",
       "      <td>white</td>\n",
       "      <td>bus</td>\n",
       "      <td>5.4</td>\n",
       "      <td>7.6</td>\n",
       "      <td>4.9</td>\n",
       "      <td>2.5</td>\n",
       "      <td>6.7</td>\n",
       "    </tr>\n",
       "    <tr>\n",
       "      <th>4</th>\n",
       "      <td>8.410678</td>\n",
       "      <td>1</td>\n",
       "      <td>m</td>\n",
       "      <td>32</td>\n",
       "      <td>Retail</td>\n",
       "      <td>Commercial</td>\n",
       "      <td>youjs</td>\n",
       "      <td>yes</td>\n",
       "      <td>f</td>\n",
       "      <td>white</td>\n",
       "      <td>bus</td>\n",
       "      <td>3.0</td>\n",
       "      <td>4.1</td>\n",
       "      <td>8.0</td>\n",
       "      <td>7.1</td>\n",
       "      <td>3.7</td>\n",
       "    </tr>\n",
       "  </tbody>\n",
       "</table>\n",
       "</div>"
      ],
      "text/plain": [
       "        stag  event gender  age         industry  profession      traffic  \\\n",
       "0   7.030801      1      m   35            Banks          HR  rabrecNErab   \n",
       "1  22.965092      1      m   33            Banks          HR        empjs   \n",
       "2  15.934292      1      f   35  PowerGeneration          HR  rabrecNErab   \n",
       "3  15.934292      1      f   35  PowerGeneration          HR  rabrecNErab   \n",
       "4   8.410678      1      m   32           Retail  Commercial        youjs   \n",
       "\n",
       "  coach head_gender greywage  way  extraversion  independ  selfcontrol  \\\n",
       "0    no           f    white  bus           6.2       4.1          5.7   \n",
       "1    no           m    white  bus           6.2       4.1          5.7   \n",
       "2    no           m    white  bus           6.2       6.2          2.6   \n",
       "3    no           m    white  bus           5.4       7.6          4.9   \n",
       "4   yes           f    white  bus           3.0       4.1          8.0   \n",
       "\n",
       "   anxiety  novator  \n",
       "0      7.1      8.3  \n",
       "1      7.1      8.3  \n",
       "2      4.8      8.3  \n",
       "3      2.5      6.7  \n",
       "4      7.1      3.7  "
      ]
     },
     "execution_count": 39,
     "metadata": {},
     "output_type": "execute_result"
    }
   ],
   "source": [
    "#verificando as primeiras linhas do dataset\n",
    "dataset.head()"
   ]
  },
  {
   "attachments": {},
   "cell_type": "markdown",
   "metadata": {},
   "source": [
    "A variável alvo será `event` que considera 0 para registros não classificados como Turnover e 1 para registros classificados como turnover.\n",
    "\n",
    "Vamos verificar o balanceamento dessa variável."
   ]
  },
  {
   "cell_type": "code",
   "execution_count": 40,
   "metadata": {},
   "outputs": [
    {
     "data": {
      "text/plain": [
       "<AxesSubplot:xlabel='event', ylabel='count'>"
      ]
     },
     "execution_count": 40,
     "metadata": {},
     "output_type": "execute_result"
    },
    {
     "data": {
      "image/png": "[encoded data removed]",
      "text/plain": [
       "<Figure size 640x480 with 1 Axes>"
      ]
     },
     "metadata": {},
     "output_type": "display_data"
    }
   ],
   "source": [
    "#plotando a variável event\n",
    "sns.countplot(dataset.event)"
   ]
  },
  {
   "attachments": {},
   "cell_type": "markdown",
   "metadata": {},
   "source": [
    "Como podemos observar a variável alvo está balanceada e não será necessário aplicar nenhum método de balanceamento."
   ]
  },
  {
   "attachments": {},
   "cell_type": "markdown",
   "metadata": {},
   "source": [
    "##### Separando o dataset"
   ]
  },
  {
   "attachments": {},
   "cell_type": "markdown",
   "metadata": {},
   "source": [
    "Para que possamos fazer as previsões primeiro precisamos separar os dados em dados de treino e de teste"
   ]
  },
  {
   "cell_type": "code",
   "execution_count": 48,
   "metadata": {},
   "outputs": [],
   "source": [
    "#separando o dataset\n",
    "X = df_turnover.drop('event', axis=1)\n",
    "y = df_turnover['event']\n",
    "\n",
    "X_train, X_test, y_train, y_test = train_test_split(X, y, stratify=y, shuffle=True)"
   ]
  },
  {
   "cell_type": "code",
   "execution_count": 49,
   "metadata": {},
   "outputs": [
    {
     "data": {
      "text/html": [
       "<div>\n",
       "<style scoped>\n",
       "    .dataframe tbody tr th:only-of-type {\n",
       "        vertical-align: middle;\n",
       "    }\n",
       "\n",
       "    .dataframe tbody tr th {\n",
       "        vertical-align: top;\n",
       "    }\n",
       "\n",
       "    .dataframe thead th {\n",
       "        text-align: right;\n",
       "    }\n",
       "</style>\n",
       "<table border=\"1\" class=\"dataframe\">\n",
       "  <thead>\n",
       "    <tr style=\"text-align: right;\">\n",
       "      <th></th>\n",
       "      <th>stag</th>\n",
       "      <th>gender</th>\n",
       "      <th>age</th>\n",
       "      <th>industry</th>\n",
       "      <th>profession</th>\n",
       "      <th>traffic</th>\n",
       "      <th>coach</th>\n",
       "      <th>head_gender</th>\n",
       "      <th>greywage</th>\n",
       "      <th>way</th>\n",
       "      <th>extraversion</th>\n",
       "      <th>independ</th>\n",
       "      <th>selfcontrol</th>\n",
       "      <th>anxiety</th>\n",
       "      <th>novator</th>\n",
       "    </tr>\n",
       "  </thead>\n",
       "  <tbody>\n",
       "    <tr>\n",
       "      <th>140</th>\n",
       "      <td>20.041068</td>\n",
       "      <td>f</td>\n",
       "      <td>25</td>\n",
       "      <td>manufacture</td>\n",
       "      <td>HR</td>\n",
       "      <td>advert</td>\n",
       "      <td>yes</td>\n",
       "      <td>f</td>\n",
       "      <td>white</td>\n",
       "      <td>car</td>\n",
       "      <td>9.4</td>\n",
       "      <td>3.4</td>\n",
       "      <td>1.8</td>\n",
       "      <td>8.7</td>\n",
       "      <td>7.5</td>\n",
       "    </tr>\n",
       "    <tr>\n",
       "      <th>355</th>\n",
       "      <td>28.780287</td>\n",
       "      <td>f</td>\n",
       "      <td>31</td>\n",
       "      <td>Retail</td>\n",
       "      <td>Accounting</td>\n",
       "      <td>youjs</td>\n",
       "      <td>no</td>\n",
       "      <td>f</td>\n",
       "      <td>white</td>\n",
       "      <td>bus</td>\n",
       "      <td>7.0</td>\n",
       "      <td>2.6</td>\n",
       "      <td>7.2</td>\n",
       "      <td>4.8</td>\n",
       "      <td>4.4</td>\n",
       "    </tr>\n",
       "    <tr>\n",
       "      <th>201</th>\n",
       "      <td>13.667351</td>\n",
       "      <td>f</td>\n",
       "      <td>27</td>\n",
       "      <td>Retail</td>\n",
       "      <td>HR</td>\n",
       "      <td>youjs</td>\n",
       "      <td>no</td>\n",
       "      <td>m</td>\n",
       "      <td>white</td>\n",
       "      <td>car</td>\n",
       "      <td>8.6</td>\n",
       "      <td>4.8</td>\n",
       "      <td>7.2</td>\n",
       "      <td>4.0</td>\n",
       "      <td>3.7</td>\n",
       "    </tr>\n",
       "    <tr>\n",
       "      <th>572</th>\n",
       "      <td>51.942505</td>\n",
       "      <td>m</td>\n",
       "      <td>33</td>\n",
       "      <td>PowerGeneration</td>\n",
       "      <td>etc</td>\n",
       "      <td>rabrecNErab</td>\n",
       "      <td>no</td>\n",
       "      <td>f</td>\n",
       "      <td>white</td>\n",
       "      <td>car</td>\n",
       "      <td>6.2</td>\n",
       "      <td>4.8</td>\n",
       "      <td>4.9</td>\n",
       "      <td>5.6</td>\n",
       "      <td>5.2</td>\n",
       "    </tr>\n",
       "    <tr>\n",
       "      <th>882</th>\n",
       "      <td>73.297741</td>\n",
       "      <td>f</td>\n",
       "      <td>24</td>\n",
       "      <td>Retail</td>\n",
       "      <td>HR</td>\n",
       "      <td>rabrecNErab</td>\n",
       "      <td>my head</td>\n",
       "      <td>f</td>\n",
       "      <td>white</td>\n",
       "      <td>bus</td>\n",
       "      <td>7.8</td>\n",
       "      <td>5.5</td>\n",
       "      <td>4.1</td>\n",
       "      <td>4.8</td>\n",
       "      <td>5.2</td>\n",
       "    </tr>\n",
       "  </tbody>\n",
       "</table>\n",
       "</div>"
      ],
      "text/plain": [
       "          stag gender  age         industry  profession      traffic    coach  \\\n",
       "140  20.041068      f   25      manufacture          HR       advert      yes   \n",
       "355  28.780287      f   31           Retail  Accounting        youjs       no   \n",
       "201  13.667351      f   27           Retail          HR        youjs       no   \n",
       "572  51.942505      m   33  PowerGeneration         etc  rabrecNErab       no   \n",
       "882  73.297741      f   24           Retail          HR  rabrecNErab  my head   \n",
       "\n",
       "    head_gender greywage  way  extraversion  independ  selfcontrol  anxiety  \\\n",
       "140           f    white  car           9.4       3.4          1.8      8.7   \n",
       "355           f    white  bus           7.0       2.6          7.2      4.8   \n",
       "201           m    white  car           8.6       4.8          7.2      4.0   \n",
       "572           f    white  car           6.2       4.8          4.9      5.6   \n",
       "882           f    white  bus           7.8       5.5          4.1      4.8   \n",
       "\n",
       "     novator  \n",
       "140      7.5  \n",
       "355      4.4  \n",
       "201      3.7  \n",
       "572      5.2  \n",
       "882      5.2  "
      ]
     },
     "execution_count": 49,
     "metadata": {},
     "output_type": "execute_result"
    }
   ],
   "source": [
    "#verificando os dados de treino\n",
    "X_train.head()"
   ]
  },
  {
   "attachments": {},
   "cell_type": "markdown",
   "metadata": {},
   "source": [
    "##### Pré-Processamento dos dados"
   ]
  },
  {
   "attachments": {},
   "cell_type": "markdown",
   "metadata": {},
   "source": [
    "Iremos transformar as variáveis categóricas em dummies que são variáveis binárias (0 ou 1) criadas para representar uma variável com duas ou mais categorias."
   ]
  },
  {
   "cell_type": "code",
   "execution_count": 51,
   "metadata": {},
   "outputs": [],
   "source": [
    "#convertendo as variáveis categóricas em dummies\n",
    "X_train = pd.get_dummies(X_train)\n",
    "X_test = pd.get_dummies(X_test)\n"
   ]
  },
  {
   "cell_type": "code",
   "execution_count": 52,
   "metadata": {},
   "outputs": [
    {
     "data": {
      "text/html": [
       "<div>\n",
       "<style scoped>\n",
       "    .dataframe tbody tr th:only-of-type {\n",
       "        vertical-align: middle;\n",
       "    }\n",
       "\n",
       "    .dataframe tbody tr th {\n",
       "        vertical-align: top;\n",
       "    }\n",
       "\n",
       "    .dataframe thead th {\n",
       "        text-align: right;\n",
       "    }\n",
       "</style>\n",
       "<table border=\"1\" class=\"dataframe\">\n",
       "  <thead>\n",
       "    <tr style=\"text-align: right;\">\n",
       "      <th></th>\n",
       "      <th>stag</th>\n",
       "      <th>age</th>\n",
       "      <th>extraversion</th>\n",
       "      <th>independ</th>\n",
       "      <th>selfcontrol</th>\n",
       "      <th>anxiety</th>\n",
       "      <th>novator</th>\n",
       "      <th>gender_f</th>\n",
       "      <th>gender_m</th>\n",
       "      <th>industry_ HoReCa</th>\n",
       "      <th>...</th>\n",
       "      <th>coach_my head</th>\n",
       "      <th>coach_no</th>\n",
       "      <th>coach_yes</th>\n",
       "      <th>head_gender_f</th>\n",
       "      <th>head_gender_m</th>\n",
       "      <th>greywage_grey</th>\n",
       "      <th>greywage_white</th>\n",
       "      <th>way_bus</th>\n",
       "      <th>way_car</th>\n",
       "      <th>way_foot</th>\n",
       "    </tr>\n",
       "  </thead>\n",
       "  <tbody>\n",
       "    <tr>\n",
       "      <th>140</th>\n",
       "      <td>20.041068</td>\n",
       "      <td>25</td>\n",
       "      <td>9.4</td>\n",
       "      <td>3.4</td>\n",
       "      <td>1.8</td>\n",
       "      <td>8.7</td>\n",
       "      <td>7.5</td>\n",
       "      <td>1</td>\n",
       "      <td>0</td>\n",
       "      <td>0</td>\n",
       "      <td>...</td>\n",
       "      <td>0</td>\n",
       "      <td>0</td>\n",
       "      <td>1</td>\n",
       "      <td>1</td>\n",
       "      <td>0</td>\n",
       "      <td>0</td>\n",
       "      <td>1</td>\n",
       "      <td>0</td>\n",
       "      <td>1</td>\n",
       "      <td>0</td>\n",
       "    </tr>\n",
       "    <tr>\n",
       "      <th>355</th>\n",
       "      <td>28.780287</td>\n",
       "      <td>31</td>\n",
       "      <td>7.0</td>\n",
       "      <td>2.6</td>\n",
       "      <td>7.2</td>\n",
       "      <td>4.8</td>\n",
       "      <td>4.4</td>\n",
       "      <td>1</td>\n",
       "      <td>0</td>\n",
       "      <td>0</td>\n",
       "      <td>...</td>\n",
       "      <td>0</td>\n",
       "      <td>1</td>\n",
       "      <td>0</td>\n",
       "      <td>1</td>\n",
       "      <td>0</td>\n",
       "      <td>0</td>\n",
       "      <td>1</td>\n",
       "      <td>1</td>\n",
       "      <td>0</td>\n",
       "      <td>0</td>\n",
       "    </tr>\n",
       "    <tr>\n",
       "      <th>201</th>\n",
       "      <td>13.667351</td>\n",
       "      <td>27</td>\n",
       "      <td>8.6</td>\n",
       "      <td>4.8</td>\n",
       "      <td>7.2</td>\n",
       "      <td>4.0</td>\n",
       "      <td>3.7</td>\n",
       "      <td>1</td>\n",
       "      <td>0</td>\n",
       "      <td>0</td>\n",
       "      <td>...</td>\n",
       "      <td>0</td>\n",
       "      <td>1</td>\n",
       "      <td>0</td>\n",
       "      <td>0</td>\n",
       "      <td>1</td>\n",
       "      <td>0</td>\n",
       "      <td>1</td>\n",
       "      <td>0</td>\n",
       "      <td>1</td>\n",
       "      <td>0</td>\n",
       "    </tr>\n",
       "    <tr>\n",
       "      <th>572</th>\n",
       "      <td>51.942505</td>\n",
       "      <td>33</td>\n",
       "      <td>6.2</td>\n",
       "      <td>4.8</td>\n",
       "      <td>4.9</td>\n",
       "      <td>5.6</td>\n",
       "      <td>5.2</td>\n",
       "      <td>0</td>\n",
       "      <td>1</td>\n",
       "      <td>0</td>\n",
       "      <td>...</td>\n",
       "      <td>0</td>\n",
       "      <td>1</td>\n",
       "      <td>0</td>\n",
       "      <td>1</td>\n",
       "      <td>0</td>\n",
       "      <td>0</td>\n",
       "      <td>1</td>\n",
       "      <td>0</td>\n",
       "      <td>1</td>\n",
       "      <td>0</td>\n",
       "    </tr>\n",
       "    <tr>\n",
       "      <th>882</th>\n",
       "      <td>73.297741</td>\n",
       "      <td>24</td>\n",
       "      <td>7.8</td>\n",
       "      <td>5.5</td>\n",
       "      <td>4.1</td>\n",
       "      <td>4.8</td>\n",
       "      <td>5.2</td>\n",
       "      <td>1</td>\n",
       "      <td>0</td>\n",
       "      <td>0</td>\n",
       "      <td>...</td>\n",
       "      <td>1</td>\n",
       "      <td>0</td>\n",
       "      <td>0</td>\n",
       "      <td>1</td>\n",
       "      <td>0</td>\n",
       "      <td>0</td>\n",
       "      <td>1</td>\n",
       "      <td>1</td>\n",
       "      <td>0</td>\n",
       "      <td>0</td>\n",
       "    </tr>\n",
       "  </tbody>\n",
       "</table>\n",
       "<p>5 rows × 58 columns</p>\n",
       "</div>"
      ],
      "text/plain": [
       "          stag  age  extraversion  independ  selfcontrol  anxiety  novator  \\\n",
       "140  20.041068   25           9.4       3.4          1.8      8.7      7.5   \n",
       "355  28.780287   31           7.0       2.6          7.2      4.8      4.4   \n",
       "201  13.667351   27           8.6       4.8          7.2      4.0      3.7   \n",
       "572  51.942505   33           6.2       4.8          4.9      5.6      5.2   \n",
       "882  73.297741   24           7.8       5.5          4.1      4.8      5.2   \n",
       "\n",
       "     gender_f  gender_m  industry_ HoReCa  ...  coach_my head  coach_no  \\\n",
       "140         1         0                 0  ...              0         0   \n",
       "355         1         0                 0  ...              0         1   \n",
       "201         1         0                 0  ...              0         1   \n",
       "572         0         1                 0  ...              0         1   \n",
       "882         1         0                 0  ...              1         0   \n",
       "\n",
       "     coach_yes  head_gender_f  head_gender_m  greywage_grey  greywage_white  \\\n",
       "140          1              1              0              0               1   \n",
       "355          0              1              0              0               1   \n",
       "201          0              0              1              0               1   \n",
       "572          0              1              0              0               1   \n",
       "882          0              1              0              0               1   \n",
       "\n",
       "     way_bus  way_car  way_foot  \n",
       "140        0        1         0  \n",
       "355        1        0         0  \n",
       "201        0        1         0  \n",
       "572        0        1         0  \n",
       "882        1        0         0  \n",
       "\n",
       "[5 rows x 58 columns]"
      ]
     },
     "execution_count": 52,
     "metadata": {},
     "output_type": "execute_result"
    }
   ],
   "source": [
    "#verificando os dados de treino após a transformação em dummies\n",
    "X_train.head()"
   ]
  },
  {
   "cell_type": "code",
   "execution_count": 57,
   "metadata": {},
   "outputs": [
    {
     "name": "stdout",
     "output_type": "stream",
     "text": [
      "A Acurácia da Regressão Logística nos dados de treino foi de 0.66\n",
      "A Acurácia da Regressão Logística nos dados de teste foi de 0.61\n"
     ]
    }
   ],
   "source": [
    "#Treinando com Regressão Logística\n",
    "clf = LogisticRegression().fit(X_train, y_train)\n",
    "\n",
    "# #verificando a Acurácia do modelo\n",
    "print(f'A Acurácia da Regressão Logística nos dados de treino foi de {clf.score(X_train, y_train):.2f}')\n",
    "print(f'A Acurácia da Regressão Logística nos dados de teste foi de {clf.score(X_test, y_test):.2f}')"
   ]
  },
  {
   "attachments": {},
   "cell_type": "markdown",
   "metadata": {},
   "source": [
    "Será feita a previsão do modelo e visualizar o relatório do modelo trazendo a principais métricas apresentadas pelo modelo mostrando a matriz de confusão, acurácia e AUC."
   ]
  },
  {
   "cell_type": "code",
   "execution_count": 58,
   "metadata": {},
   "outputs": [
    {
     "name": "stdout",
     "output_type": "stream",
     "text": [
      "Relatório de classificação: \n",
      "               precision    recall  f1-score   support\n",
      "\n",
      "           0       0.61      0.61      0.61       140\n",
      "           1       0.62      0.61      0.61       143\n",
      "\n",
      "    accuracy                           0.61       283\n",
      "   macro avg       0.61      0.61      0.61       283\n",
      "weighted avg       0.61      0.61      0.61       283\n",
      "\n",
      "Acurácia: 0.61\n",
      "AUC: 0.61\n"
     ]
    },
    {
     "data": {
      "image/png": "[encoded data removed]",
      "text/plain": [
       "<Figure size 640x480 with 2 Axes>"
      ]
     },
     "metadata": {},
     "output_type": "display_data"
    }
   ],
   "source": [
    "#fazendo previsões\n",
    "y_pred = clf.predict(X_test)\n",
    "y_proba = clf.predict_proba(X_test)\n",
    "\n",
    "#Relatório do modelo\n",
    "\n",
    "print('Relatório de classificação: \\n', classification_report(y_test, y_pred))\n",
    "\n",
    "#matriz de confusão\n",
    "skplt.metrics.plot_confusion_matrix(y_test, y_pred);\n",
    "\n",
    "#acurácia\n",
    "print(f'Acurácia: {accuracy_score(y_test, y_pred):.2f}')\n",
    "\n",
    "#AUC\n",
    "print(f'AUC: {roc_auc_score(y_test, y_pred):.2f}')"
   ]
  },
  {
   "attachments": {},
   "cell_type": "markdown",
   "metadata": {},
   "source": [
    "### Conclusão\n",
    "\n",
    "O modelo apresentado trouxe uma acurácia e a AUC de aproximadamente 61%, o que ainda poderia melhorá-los utilizando o tunning dos parâmetros do algoritmo.\n",
    "\n",
    "Na análise exploratória pudemos ver que a maioria dos gestores das pessoas que se enquadraram no Turnover é do sexo Masculino, e isso é visto na maioria das empresas no mundo. E alguns anos vem mudando com mulheres assumindo cargos de liderança e também como executivo. Algumas empresa tratam com mais importância essa vertente e já possuem projetos voltados para isso como vagas exclusivas e afirmativas para mulheres trazendo o equilíbrio de gênero para a corporação.\n",
    "\n",
    "Outro ponto observado que o setor que mais trouxe registros de turnover foi o do Varejo, muitos lojistas podem pensar, ainda, que a grande causa é apenas o salário é suficiente para o funcionário tomar a decisão de buscar um novo emprego, mas eles se esquecem de outros pontos importantes, como a falta de investimento em treinamento e capacitação, e a ausência de programas de benefícios e plano de carreira.\n",
    "\n",
    "Uma pesquisa realizada pela consultoria Robert Half, no Brasil, mostrou que os principais motivos que levam os funcionários a quererem deixar seus empregos são remuneração baixa e falta de reconhecimento (33%), desmotivação (30%), preocupação com o futuro da companhia (29%) e baixo equilíbrio entre trabalho e vida pessoal (26%). E, além disso, um ponto que não está especificado na pesquisa é a insatisfação com a liderança direta. Ter bons líderes dentro de cada equipe faz toda a diferença. Uma liderança inspiradora acaba atraindo as pessoas, mas um péssimo líder fere, desmotiva e acaba afastando seus funcionários.\n",
    "\n",
    "Por fim, podemos destacar algumas formas para redução do turnover:\n",
    "\n",
    "\n",
    "* A revisão do processo de recrutamento e seleção e o contrato de trabalho é essencial;\n",
    "\n",
    "* Manter plano de carreira e a política de cargos e salários é importante para reduzir o turnover voluntário;\n",
    "\n",
    "* Programas de resolução de conflitos e humanização, principalmente entre líderes e colaboradores podem ajudar;\n",
    "\n",
    "* Promover um ambiente de trabalho agradável e um bom clima organizacional, além de feedbacks frequentes com diálogo aberto entre líderes e equipes;\n",
    "\n",
    "* É pertinente detalhar as entrevistas de desligamento para esclarecer efetivamente quais os pontos que ocasionam perdas de profissionais.\n"
   ]
  }
 ],
 "metadata": {
  "kernelspec": {
   "display_name": "Python 3.9.13 ('base')",
   "language": "python",
   "name": "python3"
  },
  "language_info": {
   "codemirror_mode": {
    "name": "ipython",
    "version": 3
   },
   "file_extension": ".py",
   "mimetype": "text/x-python",
   "name": "python",
   "nbconvert_exporter": "python",
   "pygments_lexer": "ipython3",
   "version": "3.9.13"
  },
  "orig_nbformat": 4,
  "vscode": {
   "interpreter": {
    "hash": "6cbf665ff151f623927725d070e2c0ecf0486c355e987d2782ddeceb63b82ece"
   }
  }
 },
 "nbformat": 4,
 "nbformat_minor": 2
}
